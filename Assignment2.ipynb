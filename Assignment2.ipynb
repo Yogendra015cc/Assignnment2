{
 "cells": [
  {
   "cell_type": "markdown",
   "id": "5a9ff439-187b-4205-b2c7-bbc4f8bc3b33",
   "metadata": {},
   "source": [
    "#### Assignment 2 Data structuire"
   ]
  },
  {
   "cell_type": "markdown",
   "id": "908321df-612a-4ad4-a211-b2dd71aa1fc0",
   "metadata": {},
   "source": [
    "# Q1. How do you comment code in Python? What are the different types of comments?"
   ]
  },
  {
   "cell_type": "code",
   "execution_count": 1,
   "id": "8f74a995-977c-4ca3-859f-3ddf42ef94ba",
   "metadata": {},
   "outputs": [],
   "source": [
    "# We comment code in python by using # before any comment. For example... This answer is used by using comment"
   ]
  },
  {
   "cell_type": "code",
   "execution_count": 2,
   "id": "a06820b8-15ca-41f2-85ab-5ccd8065c9c8",
   "metadata": {},
   "outputs": [
    {
     "name": "stdout",
     "output_type": "stream",
     "text": [
      "This is my answer\n"
     ]
    }
   ],
   "source": [
    "#another example \n",
    "\n",
    "#Python is not going to execute this line because its a comment i used by writing 3 in starting\n",
    "\n",
    "print(\"This is my answer\")"
   ]
  },
  {
   "cell_type": "code",
   "execution_count": 3,
   "id": "82168769-4654-4eac-9266-ce18091af330",
   "metadata": {},
   "outputs": [
    {
     "name": "stdout",
     "output_type": "stream",
     "text": [
      "This will be executed\n"
     ]
    }
   ],
   "source": [
    "#there are 2 more types of comments\n",
    "\n",
    "#1.\n",
    "\n",
    "'''\n",
    "anything i will right here will not be executed\n",
    "'''\n",
    "print(\"This will be executed\")"
   ]
  },
  {
   "cell_type": "code",
   "execution_count": 5,
   "id": "263b7630-68aa-4da3-bd6d-f63fcfc2727b",
   "metadata": {},
   "outputs": [
    {
     "name": "stdout",
     "output_type": "stream",
     "text": [
      "This will be executed\n"
     ]
    }
   ],
   "source": [
    "#2.\n",
    "\n",
    "\"\"\"\n",
    "anything i will right here will not be executed\n",
    "\"\"\"\n",
    "print(\"This will be executed\")"
   ]
  },
  {
   "cell_type": "markdown",
   "id": "768ae65f-0aa6-4eed-883a-28ace9d9add2",
   "metadata": {},
   "source": [
    "#Q2. What are variables in Python? How do you declare and assign values to variables?"
   ]
  },
  {
   "cell_type": "code",
   "execution_count": 6,
   "id": "4fb7b1b2-aa6d-4829-81e8-831ba88fd0c4",
   "metadata": {},
   "outputs": [],
   "source": [
    "# Variables are used to store data in python.Variables are names which are used to get a particular data either it can be a string data,float data,integer,bool,complex etc\n",
    "# Variables can be alphabes,underscore,or alphabet with integer but it cant be integer only\n",
    "\n",
    "# We assign value to the variable by using \"=\" (equal) sign.\n",
    "# For example \n",
    "\n",
    "a = 12\n",
    "b = 35545.345\n",
    "Bool = True\n",
    "B1 = 8+9j\n",
    "_b = \"yogendra\""
   ]
  },
  {
   "cell_type": "code",
   "execution_count": 7,
   "id": "04206dbd-e331-48bc-85bf-e4988d2b8c4d",
   "metadata": {},
   "outputs": [
    {
     "data": {
      "text/plain": [
       "12"
      ]
     },
     "execution_count": 7,
     "metadata": {},
     "output_type": "execute_result"
    }
   ],
   "source": [
    "a"
   ]
  },
  {
   "cell_type": "code",
   "execution_count": 8,
   "id": "d36cae6f-cb8c-4dd4-a1ca-c735d7308d5f",
   "metadata": {},
   "outputs": [
    {
     "data": {
      "text/plain": [
       "35545.345"
      ]
     },
     "execution_count": 8,
     "metadata": {},
     "output_type": "execute_result"
    }
   ],
   "source": [
    "b"
   ]
  },
  {
   "cell_type": "code",
   "execution_count": 10,
   "id": "8d108748-bdd5-4758-981a-6886aa8e70fb",
   "metadata": {},
   "outputs": [
    {
     "data": {
      "text/plain": [
       "True"
      ]
     },
     "execution_count": 10,
     "metadata": {},
     "output_type": "execute_result"
    }
   ],
   "source": [
    "Bool"
   ]
  },
  {
   "cell_type": "code",
   "execution_count": 11,
   "id": "3fbf2365-465a-4c77-b55d-7ad130cbf088",
   "metadata": {},
   "outputs": [
    {
     "data": {
      "text/plain": [
       "'yogendra'"
      ]
     },
     "execution_count": 11,
     "metadata": {},
     "output_type": "execute_result"
    }
   ],
   "source": [
    "_b"
   ]
  },
  {
   "cell_type": "markdown",
   "id": "fbda04cc-423e-416a-9cf1-f6bbcba0fb6c",
   "metadata": {},
   "source": [
    "# Q3. How do you convert one data type to another in Python?"
   ]
  },
  {
   "cell_type": "code",
   "execution_count": 12,
   "id": "9bbd6e7e-847c-4198-8072-2b8877d9068b",
   "metadata": {},
   "outputs": [],
   "source": [
    "# We can use builtin functions of python like int , float , bool , str to convert one data type to another\n",
    "# for example\n",
    "\n",
    "a_int = 10\n",
    "a_int = str(a_int)"
   ]
  },
  {
   "cell_type": "code",
   "execution_count": 14,
   "id": "9456e33c-e598-4364-ba73-83ac34eb6633",
   "metadata": {},
   "outputs": [
    {
     "data": {
      "text/plain": [
       "str"
      ]
     },
     "execution_count": 14,
     "metadata": {},
     "output_type": "execute_result"
    }
   ],
   "source": [
    "type(a_int)"
   ]
  },
  {
   "cell_type": "code",
   "execution_count": 20,
   "id": "8b4653c3-57dd-4ded-b9e4-329e3fdd5a31",
   "metadata": {},
   "outputs": [],
   "source": [
    "# as we know a_int was integer but , a_int = str(a_int) this converted integer data type to string data type\n",
    "#lets take one more example\n",
    "\n",
    "a_int = 330\n",
    "a_int = float(a_int)"
   ]
  },
  {
   "cell_type": "code",
   "execution_count": 21,
   "id": "d399c5fc-3c60-482e-9fec-449423186e3a",
   "metadata": {},
   "outputs": [
    {
     "data": {
      "text/plain": [
       "330.0"
      ]
     },
     "execution_count": 21,
     "metadata": {},
     "output_type": "execute_result"
    }
   ],
   "source": [
    "a_int"
   ]
  },
  {
   "cell_type": "markdown",
   "id": "4da0af06-8d1a-4f39-8b4b-dc56ef976447",
   "metadata": {},
   "source": [
    "#Q4. How do you write and execute a Python script from the command line?"
   ]
  },
  {
   "cell_type": "code",
   "execution_count": 22,
   "id": "7dcf695e-c011-42b2-8333-43ef82c461cc",
   "metadata": {},
   "outputs": [],
   "source": [
    "# don't know the amnswer"
   ]
  },
  {
   "cell_type": "markdown",
   "id": "8d80bba7-d715-4b87-99e2-3ba72c0f1c05",
   "metadata": {},
   "source": [
    "####  Q5. Given a list my_list = [1, 2, 3, 4, 5], write the code to slice the list and obtain the sub-list [2, 3]"
   ]
  },
  {
   "cell_type": "code",
   "execution_count": 28,
   "id": "aebfb9f2-7f19-45b5-a495-7912b53580b7",
   "metadata": {},
   "outputs": [],
   "source": [
    "my_list = [1,2,3,4,5]"
   ]
  },
  {
   "cell_type": "code",
   "execution_count": 29,
   "id": "8ab62cc4-0d0f-46a9-9a7e-966a204dd602",
   "metadata": {},
   "outputs": [],
   "source": [
    "sub_list = my_list[1:3]"
   ]
  },
  {
   "cell_type": "code",
   "execution_count": 34,
   "id": "d463bb02-af95-411e-8580-730a8caf5b47",
   "metadata": {},
   "outputs": [
    {
     "data": {
      "text/plain": [
       "[2, 3]"
      ]
     },
     "execution_count": 34,
     "metadata": {},
     "output_type": "execute_result"
    }
   ],
   "source": [
    "sub_list"
   ]
  },
  {
   "cell_type": "markdown",
   "id": "7dc8ee8a-c3e8-4a60-ac48-15868947637f",
   "metadata": {},
   "source": [
    "#### Q6. What is a complex number in mathematics, and how is it represented in Python?"
   ]
  },
  {
   "cell_type": "code",
   "execution_count": 38,
   "id": "a1db9062-0884-418e-9e5f-56b9a727b29a",
   "metadata": {},
   "outputs": [],
   "source": [
    "# Complex numbers are imaginary numbers in mathematics. In maths it is represented with the help of iota (i) \n",
    "# In python these are represented by using \"j\"\n",
    "# For example\n",
    "Comp = 1 + 2j"
   ]
  },
  {
   "cell_type": "code",
   "execution_count": 39,
   "id": "326e7762-9ed4-4489-bafd-7aa857be1203",
   "metadata": {},
   "outputs": [
    {
     "data": {
      "text/plain": [
       "(1+2j)"
      ]
     },
     "execution_count": 39,
     "metadata": {},
     "output_type": "execute_result"
    }
   ],
   "source": [
    "Comp"
   ]
  },
  {
   "cell_type": "code",
   "execution_count": 40,
   "id": "d2c0fc0e-566b-409e-858a-11ddfa4440e6",
   "metadata": {},
   "outputs": [
    {
     "data": {
      "text/plain": [
       "complex"
      ]
     },
     "execution_count": 40,
     "metadata": {},
     "output_type": "execute_result"
    }
   ],
   "source": [
    "type(Comp)"
   ]
  },
  {
   "cell_type": "markdown",
   "id": "d67f5ad5-5848-4831-9c21-ba18e5d18719",
   "metadata": {},
   "source": [
    "#### Q7. What is the correct way to declare a variable named age and assign the value 25 to it?"
   ]
  },
  {
   "cell_type": "code",
   "execution_count": 42,
   "id": "d0f11eba-4f81-48a9-af6c-89a923dd8f19",
   "metadata": {},
   "outputs": [],
   "source": [
    "age = 25"
   ]
  },
  {
   "cell_type": "code",
   "execution_count": 43,
   "id": "7c8d275b-2955-43c1-b8e3-aead2226b4c2",
   "metadata": {},
   "outputs": [
    {
     "data": {
      "text/plain": [
       "25"
      ]
     },
     "execution_count": 43,
     "metadata": {},
     "output_type": "execute_result"
    }
   ],
   "source": [
    "age"
   ]
  },
  {
   "cell_type": "markdown",
   "id": "e4a76a51-af8b-4a62-aa11-72c77c7f1592",
   "metadata": {},
   "source": [
    "####  Q8. Declare a variable named price and assign the value 9.99 to it. What data type does this variable belong to?"
   ]
  },
  {
   "cell_type": "code",
   "execution_count": 44,
   "id": "38cb5a1f-2a79-49dd-9328-82637967f11e",
   "metadata": {},
   "outputs": [],
   "source": [
    "price = 9.99"
   ]
  },
  {
   "cell_type": "code",
   "execution_count": 45,
   "id": "e67b5e1d-09fe-47c0-8331-dc5c3fe1ea3f",
   "metadata": {},
   "outputs": [
    {
     "data": {
      "text/plain": [
       "float"
      ]
     },
     "execution_count": 45,
     "metadata": {},
     "output_type": "execute_result"
    }
   ],
   "source": [
    "# this variable belongs to float datatype\n",
    "\n",
    "type(price)"
   ]
  },
  {
   "cell_type": "markdown",
   "id": "63bd1674-d54a-4a30-882d-7e0daab34bc0",
   "metadata": {},
   "source": [
    "#### Q9. Create a variable named name and assign your full name to it as a string. How would you print the value of this variable?"
   ]
  },
  {
   "cell_type": "code",
   "execution_count": 46,
   "id": "b82a4101-2fd5-4f03-99d8-b87c7a553688",
   "metadata": {},
   "outputs": [],
   "source": [
    "name = \"Yogendra Chaurasiya\""
   ]
  },
  {
   "cell_type": "code",
   "execution_count": 47,
   "id": "43598d7e-9986-44d3-8780-6a79212e60a3",
   "metadata": {},
   "outputs": [
    {
     "name": "stdout",
     "output_type": "stream",
     "text": [
      "Yogendra Chaurasiya\n"
     ]
    }
   ],
   "source": [
    "print(name)"
   ]
  },
  {
   "cell_type": "markdown",
   "id": "6e9c9bf5-eaa8-4b96-b70b-a281e1ba2b1f",
   "metadata": {},
   "source": [
    "#### Q10. Given the string \"Hello, World!\", extract the substring \"World\". "
   ]
  },
  {
   "cell_type": "code",
   "execution_count": 49,
   "id": "22b30aa6-9a6f-403c-a0d5-05a0c48f4ab4",
   "metadata": {},
   "outputs": [],
   "source": [
    "H = \"Hello, World\""
   ]
  },
  {
   "cell_type": "code",
   "execution_count": 50,
   "id": "5a960146-efe1-4e73-bc64-277624eafc9a",
   "metadata": {},
   "outputs": [],
   "source": [
    "H1 = H[7:]"
   ]
  },
  {
   "cell_type": "code",
   "execution_count": 51,
   "id": "882e1c51-9ee9-4e6c-9eec-0d328842bbc2",
   "metadata": {},
   "outputs": [
    {
     "data": {
      "text/plain": [
       "'World'"
      ]
     },
     "execution_count": 51,
     "metadata": {},
     "output_type": "execute_result"
    }
   ],
   "source": [
    "H1"
   ]
  },
  {
   "cell_type": "markdown",
   "id": "14925062-9221-4566-9b37-af8faa1fca7d",
   "metadata": {},
   "source": [
    "#### Q11. Create a variable named \"is_student\" and assign it a boolean value indicating whether you are currently a student or not"
   ]
  },
  {
   "cell_type": "code",
   "execution_count": 52,
   "id": "62b12919-a698-413f-aa01-dc1839a4b314",
   "metadata": {},
   "outputs": [],
   "source": [
    "is_student = True"
   ]
  },
  {
   "cell_type": "code",
   "execution_count": 53,
   "id": "af946809-f2e3-42ef-afca-407609181735",
   "metadata": {},
   "outputs": [
    {
     "data": {
      "text/plain": [
       "True"
      ]
     },
     "execution_count": 53,
     "metadata": {},
     "output_type": "execute_result"
    }
   ],
   "source": [
    "is_student"
   ]
  },
  {
   "cell_type": "code",
   "execution_count": null,
   "id": "a322a650-4efc-45e1-b431-33caa29c032f",
   "metadata": {},
   "outputs": [],
   "source": []
  }
 ],
 "metadata": {
  "kernelspec": {
   "display_name": "Python 3 (ipykernel)",
   "language": "python",
   "name": "python3"
  },
  "language_info": {
   "codemirror_mode": {
    "name": "ipython",
    "version": 3
   },
   "file_extension": ".py",
   "mimetype": "text/x-python",
   "name": "python",
   "nbconvert_exporter": "python",
   "pygments_lexer": "ipython3",
   "version": "3.10.8"
  }
 },
 "nbformat": 4,
 "nbformat_minor": 5
}
